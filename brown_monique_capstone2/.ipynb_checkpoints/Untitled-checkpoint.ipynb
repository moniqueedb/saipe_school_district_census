{
 "cells": [
  {
   "cell_type": "code",
   "execution_count": 30,
   "id": "fbb44ec5",
   "metadata": {},
   "outputs": [],
   "source": [
    "import pandas as pd\n",
    "import numpy as np\n",
    "import seaborn as sns\n",
    "import matplotlib.pyplot as plt\n",
    "%matplotlib inline"
   ]
  },
  {
   "cell_type": "code",
   "execution_count": 18,
   "id": "6ca53874",
   "metadata": {},
   "outputs": [
    {
     "data": {
      "text/html": [
       "<div>\n",
       "<style scoped>\n",
       "    .dataframe tbody tr th:only-of-type {\n",
       "        vertical-align: middle;\n",
       "    }\n",
       "\n",
       "    .dataframe tbody tr th {\n",
       "        vertical-align: top;\n",
       "    }\n",
       "\n",
       "    .dataframe thead th {\n",
       "        text-align: right;\n",
       "    }\n",
       "</style>\n",
       "<table border=\"1\" class=\"dataframe\">\n",
       "  <thead>\n",
       "    <tr style=\"text-align: right;\">\n",
       "      <th></th>\n",
       "      <th>State</th>\n",
       "      <th>State FIPS Code</th>\n",
       "      <th>District ID</th>\n",
       "      <th>Year</th>\n",
       "      <th>District Name</th>\n",
       "      <th>District Population</th>\n",
       "      <th>Student Population</th>\n",
       "      <th>Student Poverty Population</th>\n",
       "    </tr>\n",
       "  </thead>\n",
       "  <tbody>\n",
       "    <tr>\n",
       "      <th>0</th>\n",
       "      <td>AL</td>\n",
       "      <td>1</td>\n",
       "      <td>190</td>\n",
       "      <td>2016</td>\n",
       "      <td>Alabaster City School District</td>\n",
       "      <td>33517</td>\n",
       "      <td>6678</td>\n",
       "      <td>953</td>\n",
       "    </tr>\n",
       "    <tr>\n",
       "      <th>1</th>\n",
       "      <td>AL</td>\n",
       "      <td>1</td>\n",
       "      <td>5</td>\n",
       "      <td>2016</td>\n",
       "      <td>Albertville City School District</td>\n",
       "      <td>21613</td>\n",
       "      <td>4063</td>\n",
       "      <td>1556</td>\n",
       "    </tr>\n",
       "    <tr>\n",
       "      <th>2</th>\n",
       "      <td>AL</td>\n",
       "      <td>1</td>\n",
       "      <td>30</td>\n",
       "      <td>2016</td>\n",
       "      <td>Alexander City City School District</td>\n",
       "      <td>17092</td>\n",
       "      <td>2662</td>\n",
       "      <td>853</td>\n",
       "    </tr>\n",
       "    <tr>\n",
       "      <th>3</th>\n",
       "      <td>AL</td>\n",
       "      <td>1</td>\n",
       "      <td>60</td>\n",
       "      <td>2016</td>\n",
       "      <td>Andalusia City School District</td>\n",
       "      <td>8942</td>\n",
       "      <td>1491</td>\n",
       "      <td>441</td>\n",
       "    </tr>\n",
       "    <tr>\n",
       "      <th>4</th>\n",
       "      <td>AL</td>\n",
       "      <td>1</td>\n",
       "      <td>90</td>\n",
       "      <td>2016</td>\n",
       "      <td>Anniston City School District</td>\n",
       "      <td>22345</td>\n",
       "      <td>3213</td>\n",
       "      <td>1187</td>\n",
       "    </tr>\n",
       "  </tbody>\n",
       "</table>\n",
       "</div>"
      ],
      "text/plain": [
       "  State  State FIPS Code  District ID  Year  \\\n",
       "0    AL                1          190  2016   \n",
       "1    AL                1            5  2016   \n",
       "2    AL                1           30  2016   \n",
       "3    AL                1           60  2016   \n",
       "4    AL                1           90  2016   \n",
       "\n",
       "                         District Name  District Population  \\\n",
       "0       Alabaster City School District                33517   \n",
       "1     Albertville City School District                21613   \n",
       "2  Alexander City City School District                17092   \n",
       "3       Andalusia City School District                 8942   \n",
       "4        Anniston City School District                22345   \n",
       "\n",
       "   Student Population  Student Poverty Population  \n",
       "0                6678                         953  \n",
       "1                4063                        1556  \n",
       "2                2662                         853  \n",
       "3                1491                         441  \n",
       "4                3213                        1187  "
      ]
     },
     "execution_count": 18,
     "metadata": {},
     "output_type": "execute_result"
    }
   ],
   "source": [
    "## reading school_district_16 csv file ##\n",
    "\n",
    "df = pd.read_csv(r\"C:\\Users\\mdbro\\capstone2\\school_district_2016.csv\")\n",
    "df.head()"
   ]
  },
  {
   "cell_type": "code",
   "execution_count": 19,
   "id": "061a5a7f",
   "metadata": {},
   "outputs": [
    {
     "data": {
      "text/plain": [
       "State                         object\n",
       "State FIPS Code                int64\n",
       "District ID                    int64\n",
       "Year                           int64\n",
       "District Name                 object\n",
       "District Population            int64\n",
       "Student Population             int64\n",
       "Student Poverty Population     int64\n",
       "dtype: object"
      ]
     },
     "execution_count": 19,
     "metadata": {},
     "output_type": "execute_result"
    }
   ],
   "source": [
    "df.dtypes"
   ]
  },
  {
   "cell_type": "code",
   "execution_count": 23,
   "id": "ccdb6b02",
   "metadata": {},
   "outputs": [],
   "source": [
    "df. columns = df. columns. str. replace(' ','_')"
   ]
  },
  {
   "cell_type": "code",
   "execution_count": 24,
   "id": "c89fe041",
   "metadata": {},
   "outputs": [
    {
     "data": {
      "text/html": [
       "<div>\n",
       "<style scoped>\n",
       "    .dataframe tbody tr th:only-of-type {\n",
       "        vertical-align: middle;\n",
       "    }\n",
       "\n",
       "    .dataframe tbody tr th {\n",
       "        vertical-align: top;\n",
       "    }\n",
       "\n",
       "    .dataframe thead th {\n",
       "        text-align: right;\n",
       "    }\n",
       "</style>\n",
       "<table border=\"1\" class=\"dataframe\">\n",
       "  <thead>\n",
       "    <tr style=\"text-align: right;\">\n",
       "      <th></th>\n",
       "      <th>State</th>\n",
       "      <th>State_FIPS_Code</th>\n",
       "      <th>District_ID</th>\n",
       "      <th>Year</th>\n",
       "      <th>District_Name</th>\n",
       "      <th>District_Population</th>\n",
       "      <th>Student_Population</th>\n",
       "      <th>Student_Poverty_Population</th>\n",
       "    </tr>\n",
       "  </thead>\n",
       "  <tbody>\n",
       "    <tr>\n",
       "      <th>0</th>\n",
       "      <td>AL</td>\n",
       "      <td>1</td>\n",
       "      <td>190</td>\n",
       "      <td>2016</td>\n",
       "      <td>Alabaster City School District</td>\n",
       "      <td>33517</td>\n",
       "      <td>6678</td>\n",
       "      <td>953</td>\n",
       "    </tr>\n",
       "    <tr>\n",
       "      <th>1</th>\n",
       "      <td>AL</td>\n",
       "      <td>1</td>\n",
       "      <td>5</td>\n",
       "      <td>2016</td>\n",
       "      <td>Albertville City School District</td>\n",
       "      <td>21613</td>\n",
       "      <td>4063</td>\n",
       "      <td>1556</td>\n",
       "    </tr>\n",
       "    <tr>\n",
       "      <th>2</th>\n",
       "      <td>AL</td>\n",
       "      <td>1</td>\n",
       "      <td>30</td>\n",
       "      <td>2016</td>\n",
       "      <td>Alexander City City School District</td>\n",
       "      <td>17092</td>\n",
       "      <td>2662</td>\n",
       "      <td>853</td>\n",
       "    </tr>\n",
       "    <tr>\n",
       "      <th>3</th>\n",
       "      <td>AL</td>\n",
       "      <td>1</td>\n",
       "      <td>60</td>\n",
       "      <td>2016</td>\n",
       "      <td>Andalusia City School District</td>\n",
       "      <td>8942</td>\n",
       "      <td>1491</td>\n",
       "      <td>441</td>\n",
       "    </tr>\n",
       "    <tr>\n",
       "      <th>4</th>\n",
       "      <td>AL</td>\n",
       "      <td>1</td>\n",
       "      <td>90</td>\n",
       "      <td>2016</td>\n",
       "      <td>Anniston City School District</td>\n",
       "      <td>22345</td>\n",
       "      <td>3213</td>\n",
       "      <td>1187</td>\n",
       "    </tr>\n",
       "  </tbody>\n",
       "</table>\n",
       "</div>"
      ],
      "text/plain": [
       "  State  State_FIPS_Code  District_ID  Year  \\\n",
       "0    AL                1          190  2016   \n",
       "1    AL                1            5  2016   \n",
       "2    AL                1           30  2016   \n",
       "3    AL                1           60  2016   \n",
       "4    AL                1           90  2016   \n",
       "\n",
       "                         District_Name  District_Population  \\\n",
       "0       Alabaster City School District                33517   \n",
       "1     Albertville City School District                21613   \n",
       "2  Alexander City City School District                17092   \n",
       "3       Andalusia City School District                 8942   \n",
       "4        Anniston City School District                22345   \n",
       "\n",
       "   Student_Population  Student_Poverty_Population  \n",
       "0                6678                         953  \n",
       "1                4063                        1556  \n",
       "2                2662                         853  \n",
       "3                1491                         441  \n",
       "4                3213                        1187  "
      ]
     },
     "execution_count": 24,
     "metadata": {},
     "output_type": "execute_result"
    }
   ],
   "source": [
    "df.head()"
   ]
  },
  {
   "cell_type": "code",
   "execution_count": 25,
   "id": "7a368598",
   "metadata": {},
   "outputs": [],
   "source": [
    "## converting datatype of district pop, student pop and student poverty pop ##\n",
    "\n",
    "df.District_Population = df.District_Population.astype(int)"
   ]
  },
  {
   "cell_type": "code",
   "execution_count": 26,
   "id": "d6f719f1",
   "metadata": {},
   "outputs": [],
   "source": [
    "df.Student_Population = df.Student_Population.astype(int)\n",
    "df.Student_Poverty_Population = df.Student_Population.astype(int)"
   ]
  },
  {
   "cell_type": "code",
   "execution_count": 27,
   "id": "c89c0176",
   "metadata": {},
   "outputs": [
    {
     "data": {
      "text/plain": [
       "State                         object\n",
       "State_FIPS_Code                int64\n",
       "District_ID                    int64\n",
       "Year                           int64\n",
       "District_Name                 object\n",
       "District_Population            int32\n",
       "Student_Population             int32\n",
       "Student_Poverty_Population     int32\n",
       "dtype: object"
      ]
     },
     "execution_count": 27,
     "metadata": {},
     "output_type": "execute_result"
    }
   ],
   "source": [
    "df.dtypes"
   ]
  },
  {
   "cell_type": "code",
   "execution_count": 29,
   "id": "50abb4d8",
   "metadata": {},
   "outputs": [
    {
     "data": {
      "text/html": [
       "<div>\n",
       "<style scoped>\n",
       "    .dataframe tbody tr th:only-of-type {\n",
       "        vertical-align: middle;\n",
       "    }\n",
       "\n",
       "    .dataframe tbody tr th {\n",
       "        vertical-align: top;\n",
       "    }\n",
       "\n",
       "    .dataframe thead th {\n",
       "        text-align: right;\n",
       "    }\n",
       "</style>\n",
       "<table border=\"1\" class=\"dataframe\">\n",
       "  <thead>\n",
       "    <tr style=\"text-align: right;\">\n",
       "      <th></th>\n",
       "      <th>State_FIPS_Code</th>\n",
       "      <th>District_ID</th>\n",
       "      <th>Year</th>\n",
       "      <th>District_Population</th>\n",
       "      <th>Student_Population</th>\n",
       "      <th>Student_Poverty_Population</th>\n",
       "    </tr>\n",
       "  </thead>\n",
       "  <tbody>\n",
       "    <tr>\n",
       "      <th>count</th>\n",
       "      <td>13246.000000</td>\n",
       "      <td>13246.000000</td>\n",
       "      <td>13246.0</td>\n",
       "      <td>1.324600e+04</td>\n",
       "      <td>1.324600e+04</td>\n",
       "      <td>1.324600e+04</td>\n",
       "    </tr>\n",
       "    <tr>\n",
       "      <th>mean</th>\n",
       "      <td>29.584101</td>\n",
       "      <td>14016.794579</td>\n",
       "      <td>2016.0</td>\n",
       "      <td>2.630504e+04</td>\n",
       "      <td>4.095397e+03</td>\n",
       "      <td>4.095397e+03</td>\n",
       "    </tr>\n",
       "    <tr>\n",
       "      <th>std</th>\n",
       "      <td>14.640155</td>\n",
       "      <td>14534.935873</td>\n",
       "      <td>0.0</td>\n",
       "      <td>1.191316e+05</td>\n",
       "      <td>1.816403e+04</td>\n",
       "      <td>1.816403e+04</td>\n",
       "    </tr>\n",
       "    <tr>\n",
       "      <th>min</th>\n",
       "      <td>1.000000</td>\n",
       "      <td>1.000000</td>\n",
       "      <td>2016.0</td>\n",
       "      <td>0.000000e+00</td>\n",
       "      <td>0.000000e+00</td>\n",
       "      <td>0.000000e+00</td>\n",
       "    </tr>\n",
       "    <tr>\n",
       "      <th>25%</th>\n",
       "      <td>18.000000</td>\n",
       "      <td>3930.000000</td>\n",
       "      <td>2016.0</td>\n",
       "      <td>2.769500e+03</td>\n",
       "      <td>4.292500e+02</td>\n",
       "      <td>4.292500e+02</td>\n",
       "    </tr>\n",
       "    <tr>\n",
       "      <th>50%</th>\n",
       "      <td>30.000000</td>\n",
       "      <td>9510.000000</td>\n",
       "      <td>2016.0</td>\n",
       "      <td>7.813500e+03</td>\n",
       "      <td>1.205000e+03</td>\n",
       "      <td>1.205000e+03</td>\n",
       "    </tr>\n",
       "    <tr>\n",
       "      <th>75%</th>\n",
       "      <td>40.000000</td>\n",
       "      <td>20850.000000</td>\n",
       "      <td>2016.0</td>\n",
       "      <td>2.064750e+04</td>\n",
       "      <td>3.247000e+03</td>\n",
       "      <td>3.247000e+03</td>\n",
       "    </tr>\n",
       "    <tr>\n",
       "      <th>max</th>\n",
       "      <td>72.000000</td>\n",
       "      <td>99965.000000</td>\n",
       "      <td>2016.0</td>\n",
       "      <td>8.537673e+06</td>\n",
       "      <td>1.245611e+06</td>\n",
       "      <td>1.245611e+06</td>\n",
       "    </tr>\n",
       "  </tbody>\n",
       "</table>\n",
       "</div>"
      ],
      "text/plain": [
       "       State_FIPS_Code   District_ID     Year  District_Population  \\\n",
       "count     13246.000000  13246.000000  13246.0         1.324600e+04   \n",
       "mean         29.584101  14016.794579   2016.0         2.630504e+04   \n",
       "std          14.640155  14534.935873      0.0         1.191316e+05   \n",
       "min           1.000000      1.000000   2016.0         0.000000e+00   \n",
       "25%          18.000000   3930.000000   2016.0         2.769500e+03   \n",
       "50%          30.000000   9510.000000   2016.0         7.813500e+03   \n",
       "75%          40.000000  20850.000000   2016.0         2.064750e+04   \n",
       "max          72.000000  99965.000000   2016.0         8.537673e+06   \n",
       "\n",
       "       Student_Population  Student_Poverty_Population  \n",
       "count        1.324600e+04                1.324600e+04  \n",
       "mean         4.095397e+03                4.095397e+03  \n",
       "std          1.816403e+04                1.816403e+04  \n",
       "min          0.000000e+00                0.000000e+00  \n",
       "25%          4.292500e+02                4.292500e+02  \n",
       "50%          1.205000e+03                1.205000e+03  \n",
       "75%          3.247000e+03                3.247000e+03  \n",
       "max          1.245611e+06                1.245611e+06  "
      ]
     },
     "execution_count": 29,
     "metadata": {},
     "output_type": "execute_result"
    }
   ],
   "source": [
    "df.describe()"
   ]
  },
  {
   "cell_type": "code",
   "execution_count": 45,
   "id": "773a36bf",
   "metadata": {},
   "outputs": [
    {
     "data": {
      "text/plain": [
       "Text(0.5, 1.0, 'Student Poverty in America')"
      ]
     },
     "execution_count": 45,
     "metadata": {},
     "output_type": "execute_result"
    },
    {
     "data": {
      "image/png": "[encoded data removed]",
      "text/plain": [
       "<Figure size 432x288 with 1 Axes>"
      ]
     },
     "metadata": {
      "needs_background": "light"
     },
     "output_type": "display_data"
    }
   ],
   "source": [
    "plt.plot(x_values=\"State_FIPS_Code\",y_values=\"Student_Population\")\n",
    "plt.title('Student Poverty in America')"
   ]
  },
  {
   "cell_type": "code",
   "execution_count": null,
   "id": "71352086",
   "metadata": {},
   "outputs": [],
   "source": []
  }
 ],
 "metadata": {
  "kernelspec": {
   "display_name": "Python 3 (ipykernel)",
   "language": "python",
   "name": "python3"
  },
  "language_info": {
   "codemirror_mode": {
    "name": "ipython",
    "version": 3
   },
   "file_extension": ".py",
   "mimetype": "text/x-python",
   "name": "python",
   "nbconvert_exporter": "python",
   "pygments_lexer": "ipython3",
   "version": "3.9.7"
  }
 },
 "nbformat": 4,
 "nbformat_minor": 5
}
